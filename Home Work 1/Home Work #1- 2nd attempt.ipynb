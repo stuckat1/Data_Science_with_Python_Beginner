{
 "metadata": {
  "name": "Home Work #1- 2nd attempt"
 },
 "nbformat": 3,
 "nbformat_minor": 0,
 "worksheets": [
  {
   "cells": [
    {
     "cell_type": "heading",
     "level": 1,
     "metadata": {},
     "source": "Home Work #1\n"
    },
    {
     "cell_type": "heading",
     "level": 2,
     "metadata": {},
     "source": "Problem 1:"
    },
    {
     "cell_type": "markdown",
     "metadata": {},
     "source": "Try to run the IPython notebook from this week's lecture.  Give it an honest shot, but get in touch with me if you get stuck"
    },
    {
     "cell_type": "raw",
     "metadata": {},
     "source": "1) Start \"IPython Notebook\" from the desktop.\n2) Download notebook file from Piazza link.\n3) Go to notebook application in the browser, click \"Click Here\", select the file in Chooser and then click \"Upload\" button back in the browser.\n4) Click new notebook in updated list and enjoy."
    },
    {
     "cell_type": "heading",
     "level": 2,
     "metadata": {},
     "source": "Problem 2:"
    },
    {
     "cell_type": "markdown",
     "metadata": {},
     "source": "Write a function called eval_loop that iteratively prompts the user, takes the resulting input and evaluates it using eval, and prints the result.\nIt should continue until the user enters 'done', and then return the value of the last expression it evaluated.\nYou will want to do this in an external file.\n"
    },
    {
     "cell_type": "code",
     "collapsed": false,
     "input": "def eval_loop () :\n\n    while True :\n        \n        print \"Please enter something interesting.\"\n        ibuf = raw_input()\n        if \"done\" != ibuf :\n            \n            try:\n                print( eval(ibuf))\n            except SyntaxError as e\n                print \"Python didn't like what you said!\"\n        else :\n            break\n            \n\nif __name__ == '__main__':\n\n    eval_loop()",
     "language": "python",
     "metadata": {},
     "outputs": []
    },
    {
     "cell_type": "raw",
     "metadata": {},
     "source": "d:\\dev\\src\\datascience_class\\hw1>python eval.py\nPlease enter something interesting.\n\"To be or not to be\"\nTo be or not to be\nPlease enter something interesting.\n1 + 2 + 3 + 5 + 8 + 13\n32\nPlease enter something interesting.\nDONE\nPython didn't like what you said!\nPlease enter something interesting.\nimport math\nPython didn't like what you said!\nPlease enter something interesting.\ndone\n"
    },
    {
     "cell_type": "heading",
     "level": 2,
     "metadata": {},
     "source": "Problem 3:"
    },
    {
     "cell_type": "markdown",
     "metadata": {},
     "source": "There are at least two ways to generate a string from parts:\n\n\"this is the \" + str(1) \"st string.\"\n\n\"this is the %s string\" % \"2nd\"\n\nTry timing these ways to combine strings, and try using join too.  Which is faster.  Why do you think this is?"
    },
    {
     "cell_type": "code",
     "collapsed": false,
     "input": "%timeit \"This is the \" + str(1) + \"st string.\"",
     "language": "python",
     "metadata": {},
     "outputs": [
      {
       "output_type": "stream",
       "stream": "stdout",
       "text": "1000000 loops, best of 3: 395 ns per loop\n"
      }
     ],
     "prompt_number": 67
    },
    {
     "cell_type": "code",
     "collapsed": false,
     "input": "%timeit \"this is the %s string\" % \"2nd\"",
     "language": "python",
     "metadata": {},
     "outputs": [
      {
       "output_type": "stream",
       "stream": "stdout",
       "text": "1000000 loops, best of 3: 231 ns per loop\n"
      }
     ],
     "prompt_number": 68
    },
    {
     "cell_type": "markdown",
     "metadata": {},
     "source": "The second version runs faster because its requires less memory sloshing and string casting is slow.  The first version is casting from string to decimal number, which is a mathematical process that possibly requiring a series of division operations.  The second version avoids this.  Also, in some languages string concatenation requires the expensive temporary string construction and destruction.  The first version may possibly requires the creation of 5 strings and destruction of 4 of them in order to return just single string, while the second implementation probably only creates a single string and destroys none.  Since strings are objects and they live on the heap, and by definition heap is slow, it makes sense that version two is faster."
    },
    {
     "cell_type": "heading",
     "level": 2,
     "metadata": {},
     "source": "Problem 4:"
    },
    {
     "cell_type": "markdown",
     "metadata": {},
     "source": "Implement a class called DataFrame. It should be initialized with a dictionary of lists numeric values. It must have the following methods:\nmean (key) : compute the mean of the list indexed by the key\nsum (key) : calculate the sum of the list\ncount (key) : return the number of elements in the list\nstandard_deviation (key) : compute the standard deviation of the list\nget (key) : return the associated list if it exists\nrow (n) : return the nth item of each list as a list\napply (f) : modify each list by the function f"
    },
    {
     "cell_type": "code",
     "collapsed": false,
     "input": "import copy\nimport math\n\nclass DataFrame(object):\n    \n    def __init__(self, dict_):\n        assert len(dict_) > 0 # Do not create an empty data frame.  We should check each\n                             # value for each key to see it non-empty but I'm too lazy. \n        self._dict = dict_\n        \n    def mean( self, key) : \n        s = self.sum( key)\n        l = self.count( key)\n        \n        assert l > 0 \n        return float(s) / float(l)\n            \n    def sum( self, key) :\n        assert key in self._dict\n        \n        u = 0\n        for x in self._dict[key] :\n            u += x\n        return u\n\n    def count( self, key) : \n        return len( self._dict[ key])\n\n    def standard_deviation( self, key) :\n        \n        # Assuming sample standard deviation               \n        assert key in self._dict\n        l = self._dict[key]     # Get the list\n        k = copy.copy( l)       # Prevent aliasing because we are destructive\n        u = float(sum(k)) / float(len(k))     # Compute mean on the fly\n        return math.sqrt(float(sum(map( lambda x: (x - u) ** 2, k))) / float(len(k) -1))\n\n    def get( self, key) :\n        return self._dict[ key]\n        \n    def row( self, n) :\n        rez = []\n        for key in self._dict :\n            rez.append( self._dict[key][n])\n            \n        return rez\n        \n    def apply( self, f) :\n        for key in self._dict : \n            self._dict[key] = map( f, self._dict[key])\n        \n\n        ",
     "language": "python",
     "metadata": {},
     "outputs": [],
     "prompt_number": 1
    },
    {
     "cell_type": "code",
     "collapsed": false,
     "input": "datum = dict()\ndatum['odd'] = [1, 3, 5, 7, 9]\ndatum['even'] = [2, 4, 6, 8, 10]\ndatum['fib'] = [1, 2, 3, 5, 8]\ndf = DataFrame( datum)\n\n# Test Count\ni = df.count('odd')\nassert i == 5 \nprint \"Pass test 1\"\n\ni = df.count('even')\nassert i == 5 \nprint \"Pass test 2\"\n\ni = df.count('fib')\nassert i == 5 \nprint \"Pass test 3\"\n\n# Test Sum\ni = df.sum('odd')\nassert i == 25 \nprint \"Pass test 4\"\n\ni = df.sum('even')\nassert i == 30 \nprint \"Pass test 5\"\n\ni = df.sum('fib')\nassert i == 19 \nprint \"Pass test 6\"\n\n# Test Mean\nepsilon = 0.000001 # Wow!  \n\ni = df.mean('odd')\nassert abs(i -5) < epsilon \nprint \"Pass test 7\"\n\ni = df.mean('even')\nassert abs(i - 6) < epsilon \nprint \"Pass test 8\"\n\ni = df.mean('fib')\nassert abs(i - 3.8) < epsilon \nprint \"Pass test 9\"\n\n\n# Test Get\ni = df.get('odd')\nassert cmp(i, datum['odd']) == 0\nprint \"Pass test 10\"\n\ni = df.get('even')\nassert cmp(i, datum['even']) == 0\nprint \"Pass test 11\"\n\ni = df.get('fib')\nassert cmp(i, datum['fib']) == 0\nprint \"Pass test 12\"\n\n# Test row\n# Because I don't know the sort order, I will test the sum\n# of each column\ni = df.row(0)\nassert abs( sum(i) - 4) < epsilon\nprint \"Pass test 13\"\n\ni = df.row(2)\nassert abs( sum(i) - 14) < epsilon\nprint \"Pass test 14\"\n\ni = df.row(4)\nassert abs( sum(i) - 27) < epsilon\nprint \"Pass test 15\"\n\n# Test apply by adding 1 to everything\nprint \"Test 16 - Original values\"\nprint df._dict\n\ndf.apply( lambda x: x + 1)\nprint \"... after adding 1\"\nprint df._dict\n\ndf.apply( lambda x: x - 1)\nprint \"... and back to normal again\"\nprint df._dict\n\ni = df.standard_deviation('odd')\nassert abs( 3.16227766  - i) < epsilon\nprint \"Pass test 17\"\n\ni = df.standard_deviation('even')\nassert abs( 3.16227766  - i) < epsilon\nprint \"Pass test 18\"\n\ni = df.standard_deviation('fib')\nassert abs( 2.774887385  - i) < epsilon\nprint \"Pass test 19\"\n",
     "language": "python",
     "metadata": {},
     "outputs": [
      {
       "output_type": "stream",
       "stream": "stdout",
       "text": "Pass test 1\nPass test 2\nPass test 3\nPass test 4\nPass test 5\nPass test 6\nPass test 7\nPass test 8\nPass test 9\nPass test 10\nPass test 11\nPass test 12\nPass test 13\nPass test 14\nPass test 15\nTest 16 - Original values\n{'even': [2, 4, 6, 8, 10], 'fib': [1, 2, 3, 5, 8], 'odd': [1, 3, 5, 7, 9]}\n... after adding 1\n{'even': [3, 5, 7, 9, 11], 'fib': [2, 3, 4, 6, 9], 'odd': [2, 4, 6, 8, 10]}\n... and back to normal again\n{'even': [2, 4, 6, 8, 10], 'fib': [1, 2, 3, 5, 8], 'odd': [1, 3, 5, 7, 9]}\nPass test 17\nPass test 18\nPass test 19\n"
      }
     ],
     "prompt_number": 2
    },
    {
     "cell_type": "heading",
     "level": 2,
     "metadata": {},
     "source": "Extra Credit"
    },
    {
     "cell_type": "markdown",
     "metadata": {},
     "source": "Check out the source code for Python 2.7.  Find the C implementation for the Python list (it's in a .h file!).  Explain how the data structure works. "
    },
    {
     "cell_type": "raw",
     "metadata": {},
     "source": "Based on the source code below from Python 2.7.2, the Python list object is implemented as a standard C array of pointers to structs of PyObject types.  For any data structure that is interanlly represented by an array, the interface methods probably manipulate the internals using sequential search or C-style pointer indexing for direct addressing. "
    },
    {
     "cell_type": "raw",
     "metadata": {},
     "source": "#ifndef Py_LISTOBJECT_H\n#define Py_LISTOBJECT_H\n#ifdef __cplusplus\nextern \"C\" {\n#endif\n\ntypedef struct {\n    PyObject_VAR_HEAD\n    /* Vector of pointers to list elements.  list[0] is ob_item[0], etc. */\n    PyObject **ob_item;\n\n    /* ob_item contains space for 'allocated' elements.  The number\n     * currently in use is ob_size.\n     * Invariants:\n     *     0 <= ob_size <= allocated\n     *     len(list) == ob_size\n     *     ob_item == NULL implies ob_size == allocated == 0\n     * list.sort() temporarily sets allocated to -1 to detect mutations.\n     *\n     * Items must normally not be NULL, except during construction when\n     * the list is not yet visible outside the function that builds it.\n     */\n    Py_ssize_t allocated;\n} PyListObject;"
    }
   ],
   "metadata": {}
  }
 ]
}