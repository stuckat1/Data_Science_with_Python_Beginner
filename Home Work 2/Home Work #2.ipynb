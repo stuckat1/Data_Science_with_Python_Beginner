{
 "metadata": {
  "name": "Home Work #2"
 },
 "nbformat": 3,
 "nbformat_minor": 0,
 "worksheets": [
  {
   "cells": [
    {
     "cell_type": "heading",
     "level": 1,
     "metadata": {},
     "source": "Part I"
    },
    {
     "cell_type": "raw",
     "metadata": {},
     "source": "Programming practice. Sign up for Project Euler and solve as many problems as you can!  http://projecteuler.net/problems.  Please submit the code for your solutions\n "
    },
    {
     "cell_type": "heading",
     "level": 1,
     "metadata": {},
     "source": "I coded 20 Euler problems, mostly in the first 50 questions on the site."
    },
    {
     "cell_type": "heading",
     "level": 2,
     "metadata": {},
     "source": "#1\tMultiples of 3 and 5"
    },
    {
     "cell_type": "code",
     "collapsed": false,
     "input": "def fun( n) :\n    \n    sum = 0\n    \n    for i in range(1,n) :\n        if (i % 3 == 0) or  (i % 5 == 0) :\n            sum += i\n    return sum\n\nprint fun(1000)\n%timeit fun(1000)",
     "language": "python",
     "metadata": {},
     "outputs": [
      {
       "output_type": "stream",
       "stream": "stdout",
       "text": "233168\n10000 loops, best of 3: 173 \u00b5s per loop"
      },
      {
       "output_type": "stream",
       "stream": "stdout",
       "text": "\n"
      }
     ],
     "prompt_number": 40
    },
    {
     "cell_type": "heading",
     "level": 2,
     "metadata": {},
     "source": "#2 Even Fibonacci numbers"
    },
    {
     "cell_type": "code",
     "collapsed": false,
     "input": "def fun():\n    \n    sum, sum_even = 0, 2\n    first, second = 1, 2\n    found = False\n\n    while not found :\n       sum = first + second\n       if sum < 4000000 :\n          first, second = second, sum\n          if sum % 2 == 0 :\n             sum_even += sum\n       else :\n          found = True\n\n    return sum_even\n        \n\nprint fun()\n%timeit fun()",
     "language": "python",
     "metadata": {},
     "outputs": [
      {
       "output_type": "stream",
       "stream": "stdout",
       "text": "4613732\n100000 loops, best of 3: 6.86 \u00b5s per loop"
      },
      {
       "output_type": "stream",
       "stream": "stdout",
       "text": "\n"
      }
     ],
     "prompt_number": 41
    },
    {
     "cell_type": "heading",
     "level": 2,
     "metadata": {},
     "source": "#3\tLargest prime factor"
    },
    {
     "cell_type": "code",
     "collapsed": false,
     "input": "def func(n) :\n\n   largest = 0\n  \n   i = 2\n\n   while i * i <= n :\n      if n % i == 0 :\n         n /= i\n         largest = i   \n      else :\n         i+=1\n\n   if n > largest :\n      largest = n\n\n   return largest\n\n#print func(13195)\nprint func(600851475143)\n%timeit func(600851475143)",
     "language": "python",
     "metadata": {},
     "outputs": [
      {
       "output_type": "stream",
       "stream": "stdout",
       "text": "6857\n1000 loops, best of 3: 671 \u00b5s per loop"
      },
      {
       "output_type": "stream",
       "stream": "stdout",
       "text": "\n"
      }
     ],
     "prompt_number": 44
    },
    {
     "cell_type": "heading",
     "level": 2,
     "metadata": {},
     "source": "#4\tLargest palindrome product"
    },
    {
     "cell_type": "code",
     "collapsed": false,
     "input": "def palindrome( i) :\n    \n    j = i\n    s = 0\n\n    while j > 0 :\n\n        s *= 10\n        s += j - 10 * (j / 10)  \n        j /= 10\n\n    return s == i    \n\n\ndef fun() :\n    \n    best_result = 1\n    \n    for i in range(1,1000) :\n        for j in range(1,1000) :\n            \n            k = i * j\n            \n            if (k > best_result) and palindrome(k) :                    \n                best_result = k\n\n    return best_result\n                    \nprint fun() \n%timeit fun()",
     "language": "python",
     "metadata": {},
     "outputs": [
      {
       "output_type": "stream",
       "stream": "stdout",
       "text": "906609\n1 loops, best of 3: 245 ms per loop"
      },
      {
       "output_type": "stream",
       "stream": "stdout",
       "text": "\n"
      }
     ],
     "prompt_number": 45
    },
    {
     "cell_type": "heading",
     "level": 2,
     "metadata": {},
     "source": "#5\tSmallest multiple"
    },
    {
     "cell_type": "code",
     "collapsed": false,
     "input": "def func() :\n\n   done = False\n   x = 20\n\n   while not done :\n\n      all_divisable = True\n\n      for i in range(2,21) :\n         if x % i != 0 :\n            all_divisable = False\n            break\n\n      if all_divisable :\n         done = True\n      else :\n         x += 20\n\n   return x   \n\n\nprint func()\n%timeit func()",
     "language": "python",
     "metadata": {},
     "outputs": [
      {
       "output_type": "stream",
       "stream": "stdout",
       "text": "232792560\n1 loops, best of 3: 13.6 s per loop"
      },
      {
       "output_type": "stream",
       "stream": "stdout",
       "text": "\n"
      }
     ],
     "prompt_number": 47
    },
    {
     "cell_type": "heading",
     "level": 2,
     "metadata": {},
     "source": "#6\tSum square difference"
    },
    {
     "cell_type": "code",
     "collapsed": false,
     "input": "def part1(n) :\n\n    sum = 0\n    for i in range(1,n+1) :\n        sum += i**2\n\n    return sum\n\ndef part2(n) :\n    \n    return sum( range(1, n+1)) ** 2\n    \n    \ndef func(n) :\n    \n    a = part1(n)\n    b = part2(n)\n    \n    return -part1(n) + part2(n)\n    \nprint func(100)\n%timeit func(100)",
     "language": "python",
     "metadata": {},
     "outputs": [
      {
       "output_type": "stream",
       "stream": "stdout",
       "text": "25164150\n10000 loops, best of 3: 28.7 \u00b5s per loop"
      },
      {
       "output_type": "stream",
       "stream": "stdout",
       "text": "\n"
      }
     ],
     "prompt_number": 46
    },
    {
     "cell_type": "heading",
     "level": 2,
     "metadata": {},
     "source": "#7\t10001st prime"
    },
    {
     "cell_type": "code",
     "collapsed": false,
     "input": "# This algorithm for prime number generation was found on\n# http://stackoverflow.com/questions/16004407/a-fast-prime-number-sieve-in-python\n\nimport itertools\n\ndef erat2( ):\n   D = {  }\n   yield 2\n   \n   for q in itertools.islice(itertools.count(3), 0, None, 2):\n      p = D.pop(q, None)\n      if p is None:\n         D[q*q] = q\n         yield q\n      else:\n         x = p + q\n         while x in D or not (x&1):\n            x += p\n         D[x] = p\n\ndef primes(n):\n   return list(itertools.takewhile(lambda p: p<n, erat2()))\n\n\np = primes(200001)\nprint p[10001-1]\n%timeit primes(200001)",
     "language": "python",
     "metadata": {},
     "outputs": [
      {
       "output_type": "stream",
       "stream": "stdout",
       "text": "104743\n10 loops, best of 3: 111 ms per loop"
      },
      {
       "output_type": "stream",
       "stream": "stdout",
       "text": "\n"
      }
     ],
     "prompt_number": 49
    },
    {
     "cell_type": "heading",
     "level": 2,
     "metadata": {},
     "source": "#8\tLargest product in a series"
    },
    {
     "cell_type": "code",
     "collapsed": false,
     "input": "#Convert a string of numbers into a product\ndef convert(x) :\n    \n    sum = 1\n    \n    for i in range(len(x)) :\n            sum = sum * int(x[i])\n            \n    return sum\n\n    \ndef func() :\n    \n    x = \"731671765313306249192251196744265747423553491949349698352031277450632623957831801698480186947885184385861560789112949495459501737958331952853208805511125406987471585238630507156932909632952274430435576689664895044524452316173185640309871112172238311362229893423380308135336276614282806444486645238749303589072962904915604407723907138105158593079608667017242712188399879790879227492190169972088809377665727333001053367881220235421809751254540594752243525849077116705560136048395864467063244157221553975369781797784617406495514929086256932197846862248283972241375657056057490261407972968652414535100474821663704844031998900088952434506585412275886668811642717147992444292823086346567481391912316282458617866458359124566529476545682848912883142607690042242190226710556263211111093705442175069416589604080719840385096245544436298123098787992724428490918884580156166097919133875499200524063689912560717606058861164671094050775410022569831552000559357297257163626956188267042825248360082325753042075296345\"\n    largest = 0\n    \n    for i in range(1,len(x)-5) :\n        y = x[i:i+5]\n        p = convert(y)\n        \n        if p > largest :\n            largest = p\n        \n    \n    return largest\n    \nprint func()\n%timeit func()",
     "language": "python",
     "metadata": {},
     "outputs": [
      {
       "output_type": "stream",
       "stream": "stdout",
       "text": "40824\n100 loops, best of 3: 5.07 ms per loop"
      },
      {
       "output_type": "stream",
       "stream": "stdout",
       "text": "\n"
      }
     ],
     "prompt_number": 48
    },
    {
     "cell_type": "heading",
     "level": 2,
     "metadata": {},
     "source": "#9\tSpecial Pythagorean triplet"
    },
    {
     "cell_type": "code",
     "collapsed": false,
     "input": "def func(n) :\n\n   i = 0\n    \n   for a in range(1,n) :\n      for b in range(1,n-a+1) :\n         for c in range(1,n-a-b+1) :\n            \n            if (a + b + c == n) and (a**2 + b**2 == c **2) :\n                i+=1\n                if i == 2 :\n                    #print repr(a) + \", \" + repr(b) + \", \" + repr(c)\n                    return a * b *c\n                    \n\nprint func(1000)\n%timeit func(1000)",
     "language": "python",
     "metadata": {},
     "outputs": [
      {
       "output_type": "stream",
       "stream": "stdout",
       "text": "31875000\n1 loops, best of 3: 11.1 s per loop"
      },
      {
       "output_type": "stream",
       "stream": "stdout",
       "text": "\n"
      }
     ],
     "prompt_number": 52
    },
    {
     "cell_type": "heading",
     "level": 2,
     "metadata": {},
     "source": "#10\tSummation of primes"
    },
    {
     "cell_type": "code",
     "collapsed": false,
     "input": "# This algorithm for prime number generation was found on\n# http://stackoverflow.com/questions/16004407/a-fast-prime-number-sieve-in-python\n\nimport itertools\n\ndef erat2( ):\n   D = {  }\n   yield 2\n   \n   for q in itertools.islice(itertools.count(3), 0, None, 2):\n      p = D.pop(q, None)\n      if p is None:\n         D[q*q] = q\n         yield q\n      else:\n         x = p + q\n         while x in D or not (x&1):\n            x += p\n         D[x] = p\n\ndef primes(n):\n   return list(itertools.takewhile(lambda p: p<n, erat2()))\n\ndef fun( n) :\n   \n   p = primes(n)\n  \n   sum = 0\n   for i in p :\n      sum += i\n\n   return sum\n\nprint fun(2000000)\n%timeit fun(2000000)\n",
     "language": "python",
     "metadata": {},
     "outputs": [
      {
       "output_type": "stream",
       "stream": "stdout",
       "text": "142913828922\n1 loops, best of 3: 1.42 s per loop"
      },
      {
       "output_type": "stream",
       "stream": "stdout",
       "text": "\n"
      }
     ],
     "prompt_number": 53
    },
    {
     "cell_type": "heading",
     "level": 2,
     "metadata": {},
     "source": "#13\tLarge sum"
    },
    {
     "cell_type": "code",
     "collapsed": false,
     "input": "def func() :\n\n   data = []\n\n   with open('data.txt') as f:\n      for line in f:\n         data.append( int(line))\n\n   s = str(sum(data))\n\n   return s[0:10]\n\nprint func()\n%timeit func()\n",
     "language": "python",
     "metadata": {},
     "outputs": [
      {
       "output_type": "stream",
       "stream": "stdout",
       "text": "5537376230\n1000 loops, best of 3: 210 \u00b5s per loop"
      },
      {
       "output_type": "stream",
       "stream": "stdout",
       "text": "\n"
      }
     ],
     "prompt_number": 55
    },
    {
     "cell_type": "heading",
     "level": 2,
     "metadata": {},
     "source": "#14\tLongest Collatz sequence"
    },
    {
     "cell_type": "code",
     "collapsed": false,
     "input": "def collatz(n) :\n    \n    count = 1\n    \n    while n > 1 :\n        \n        count += 1\n        \n        if n % 2 == 0 :\n            n = n /2\n        else :\n            n = 3*n +1\n            \n    return count\n\ndef func() :\n    \n    long_length = 0\n    long_start = 0\n    \n    for i in range(2,1000000) :\n        \n        j = collatz(i)\n        \n        if j > long_length :\n            long_length = j\n            long_start = i\n            #print repr(long_start) + \" => \" + repr(long_length)\n   \n    return long_start\n        \nprint func()\n%timeit func()",
     "language": "python",
     "metadata": {},
     "outputs": [
      {
       "output_type": "stream",
       "stream": "stdout",
       "text": "837799\n1 loops, best of 3: 30.8 s per loop"
      },
      {
       "output_type": "stream",
       "stream": "stdout",
       "text": "\n"
      }
     ],
     "prompt_number": 56
    },
    {
     "cell_type": "heading",
     "level": 2,
     "metadata": {},
     "source": "#15\tLattice paths"
    },
    {
     "cell_type": "code",
     "collapsed": false,
     "input": "import math \n\ndef func(m,n) :\n   \n   x = m + n\n\n   return math.factorial(x) / (math.factorial(n) * math.factorial(x-n))\n\n\nprint func(20, 20)\n#%timeit func(20,20)",
     "language": "python",
     "metadata": {},
     "outputs": [
      {
       "output_type": "stream",
       "stream": "stdout",
       "text": "137846528820\n"
      }
     ],
     "prompt_number": 57
    },
    {
     "cell_type": "heading",
     "level": 2,
     "metadata": {},
     "source": "#16\tPower digit sum"
    },
    {
     "cell_type": "code",
     "collapsed": false,
     "input": "def func( n) :\n\n   p = 2 ** n\n\n   q = str(p)\n   d = dict()\n\n   for i in range(10) :\n      d[str(i)] = i\n    \n   sum = 0\n   for i in range(len(q)) :\n      sum += d[str(q[i])]\n    \n   return sum\n\n\nprint func(1000)\n%timeit func(1000)",
     "language": "python",
     "metadata": {},
     "outputs": [
      {
       "output_type": "stream",
       "stream": "stdout",
       "text": "1366\n10000 loops, best of 3: 99.6 \u00b5s per loop"
      },
      {
       "output_type": "stream",
       "stream": "stdout",
       "text": "\n"
      }
     ],
     "prompt_number": 64
    },
    {
     "cell_type": "heading",
     "level": 2,
     "metadata": {},
     "source": "#20\tFactorial digit sum"
    },
    {
     "cell_type": "code",
     "collapsed": false,
     "input": "import math\n\ndef func(n) :\n\n   x = math.factorial(n)\n\n   sum = 0\n\n   while x > 0 :\n      diff = x - 10 * (x / 10)\n      sum += diff\t\n      x = x / 10\n\n   return sum\n\nprint func(100)\n%timeit func(100)",
     "language": "python",
     "metadata": {},
     "outputs": [
      {
       "output_type": "stream",
       "stream": "stdout",
       "text": "648\n10000 loops, best of 3: 186 \u00b5s per loop"
      },
      {
       "output_type": "stream",
       "stream": "stdout",
       "text": "\n"
      }
     ],
     "prompt_number": 63
    },
    {
     "cell_type": "heading",
     "level": 2,
     "metadata": {},
     "source": "#25\t1000-digit Fibonacci number"
    },
    {
     "cell_type": "code",
     "collapsed": false,
     "input": "def mylen( x) :\n\n   if x < 10 :\n      return 1\n\n   i = 0\n\n   while x > 0 :\n      i+=1\n      x /= 10\n\n   return i\n\ndef func(n):\n    \n    sum = 0\n    first = 1\n    second = 2\n    i = 4\n    stop = False\n\n    while not stop :\n        \n        sum = first + second\n        first, second = second, sum\n        if mylen(second) == n:\n           stop = True\n        else :\n           i+=1\n\n        #print repr(i) + \" => \" + repr(len(str(second)))\n        \n\n    return i        \n\nprint func(1000)\n%timeit func(1000)",
     "language": "python",
     "metadata": {},
     "outputs": [
      {
       "output_type": "stream",
       "stream": "stdout",
       "text": "4782\n1 loops, best of 3: 2.23 s per loop"
      },
      {
       "output_type": "stream",
       "stream": "stdout",
       "text": "\n"
      }
     ],
     "prompt_number": 62
    },
    {
     "cell_type": "heading",
     "level": 2,
     "metadata": {},
     "source": "#30\tDigit fifth powers"
    },
    {
     "cell_type": "code",
     "collapsed": false,
     "input": "def fun() :\n\n   d = dict()\n\n   for i in range(0,10) :\n      d[i] = i**5\n \n   sum = 0\n\n   for i in range(0,10) :\n      for j in range(0,10) :\n         for k in range(0,10) :\n            for l in range(0,10) :\n               for m in range(0,10) :\n                  for n in range(0,10) :\n                     x = i*100000 + j*10000 + k*1000 + l*100 + m*10 + n\n                     y = d[i] + d[j] + d[k] + d[l] + d[m] + d[n] \n                     if (x==y) and (y>2):\n                        sum += x\n\n   return sum\n\nprint fun()\n%timeit fun()",
     "language": "python",
     "metadata": {},
     "outputs": [
      {
       "output_type": "stream",
       "stream": "stdout",
       "text": "443839\n1 loops, best of 3: 807 ms per loop"
      },
      {
       "output_type": "stream",
       "stream": "stdout",
       "text": "\n"
      }
     ],
     "prompt_number": 61
    },
    {
     "cell_type": "heading",
     "level": 2,
     "metadata": {},
     "source": "#36\tDouble-base palindromes"
    },
    {
     "cell_type": "code",
     "collapsed": false,
     "input": "\ndef func() :\n\n   sum = 0\n\n   for i in range(1000000) :\n      if pal10(i) and pal2(i) :\n         #print \">\" + repr(i)\n         sum += i\n\n   return sum\n\ndef pal10( x) :\n\n   y = 0;\n   z = x\n\n   while x > 0 :\n      d = x - 10* (x / 10)\n      y = y*10 + d\n      x = x / 10\n\n   return y == z\n\n\ndef pal2( x) :\n\n   x = bin(x)\n   x = x[2:]\n   y = x[::-1]\n\n   return x == y\n\nprint func()\n%timeit func()",
     "language": "python",
     "metadata": {},
     "outputs": [
      {
       "output_type": "stream",
       "stream": "stdout",
       "text": "872187\n1 loops, best of 3: 2.29 s per loop"
      },
      {
       "output_type": "stream",
       "stream": "stdout",
       "text": "\n"
      }
     ],
     "prompt_number": 60
    },
    {
     "cell_type": "heading",
     "level": 2,
     "metadata": {},
     "source": "#48\tSelf powers"
    },
    {
     "cell_type": "code",
     "collapsed": false,
     "input": "def func() :\n\n  sum = 0\n\n  for i in range(1,1001) :\n     sum += i ** i\n\n  \n  return sum - (10 ** 10) * (sum / (10 ** 10))\n\n\nprint func()\n%timeit func()",
     "language": "python",
     "metadata": {},
     "outputs": [
      {
       "output_type": "stream",
       "stream": "stdout",
       "text": "9110846700\n100 loops, best of 3: 12.8 ms per loop"
      },
      {
       "output_type": "stream",
       "stream": "stdout",
       "text": "\n"
      }
     ],
     "prompt_number": 59
    },
    {
     "cell_type": "heading",
     "level": 2,
     "metadata": {},
     "source": "#49\tPrime permutations"
    },
    {
     "cell_type": "code",
     "collapsed": false,
     "input": "def concat(a,b,c) :\n\n   return str(a) + str(b) + str(c)\n\ndef isprime(n) :\n    \n    for i in range(2,n) :\n        if n % i == 0 :\n            return False\n    \n    return True\n\ndef srt(x) :\n\n   y = str(x)\n\n   return ''.join(sorted(y))\n   \ndef func() :\n\n   found = 0\n\n   for i in range(1000, 10000 - 3330 *2) :\n      j = i + 3330\n      k = j + 3330\n\n      if isprime(i) and isprime(j) and isprime(k) :\n         if (srt(i) == srt(j)) and (srt(j) == srt(k)) :\n            #print repr(i) + \", \" + repr(j) + \", \" + repr(k)\n            x = concat( i, j, k)\n            found+=1\n            if found == 2 : \n              return x\n              break\n \n\nprint func()\n%timeit func()\n",
     "language": "python",
     "metadata": {},
     "outputs": [
      {
       "output_type": "stream",
       "stream": "stdout",
       "text": "296962999629\n1 loops, best of 3: 206 ms per loop"
      },
      {
       "output_type": "stream",
       "stream": "stdout",
       "text": "\n"
      }
     ],
     "prompt_number": 58
    },
    {
     "cell_type": "heading",
     "level": 1,
     "metadata": {},
     "source": "Part II"
    },
    {
     "cell_type": "raw",
     "metadata": {},
     "source": "If a family has two children and we know that at least one of them is a girl named Florida, what is the chance that they have two girls? You can assume that the percentage of girls named Florida is small.  Justify your answer.\n "
    },
    {
     "cell_type": "raw",
     "metadata": {},
     "source": "If you ignore the girls names for a moment and examine it as a traditional probability of both girl question knowing one child is a girl, we have the following possible scenarios: GB, BG,and GG. The probability of both girls is 1/3 assuming gender is 50/50.\n\nNow, in our problem we know we have a girl named Florida.  This means GG scenario can be further decomposed as four scenarios: both girls named Florida, both girls but the eldest daughter named Florida, both girls but the youngest  named Florida and both girls neither named Florida.  Also, since Florida is a non-traditonal name, I'll assume its 1% probability so our numbers are not too ridiculously small.  More importantly, we need to assume that no boys are ever named Florida.  If this is NOT true, Florida provides not meaningful information and the probability of both girls is just the usual 1/3.\n\n------------------------------------------------------------------------------\nG \u2227 G   |  (G \u2229 F)  \u2227 (G \u2229 F)    | I.     0.5 * 0.01 * 0.5 * 0.01 = 0.000025\n        |  (G \u2229 F)  \u2227 (G \u2229 \u223dF)   | II.    0.5 * 0.01 * 0.5 * 0.99 = 0.002475\n        |  (G \u2229 \u223dF) \u2227 (G \u2229 F)    | III.   0.5 * 0.99 * 0.5 * 0.01 = 0.002475\n        |  (G \u2229 \u223dF) \u2227 (G \u2229 \u223dF)   | IV.    0.5 * 0.99 * 0.5 * 0.99 = 0.245025\n------------------------------------------------------------------------------\nG \u2227 B   |  (G \u2229 F) \u2227 B           | V.     0.5 * 0.01 * 0.5 = 0.0025\n        |  (G \u2229 \u223dF) \u2227 B          | VI.    0.5 * 0.99 * 0.5 = 0.2475\n------------------------------------------------------------------------------\nB \u2227 G   |  B \u2227 (G \u2229 F)           | VII.    0.5 * 0.5 * 0.01 = 0.0025\n        |  B \u2227 (G \u2229 \u223dF)          | VIII.   0.5 * 0.5 * 0.99 = 0.2475\n------------------------------------------------------------------------------\nB \u2227 B   |\n------------------------------------------------------------------------------\n\n\nSo, the probability of both girls given that one daughter is named Florida is \n\nP(I) + P(II) + P(III)                    0.000025 + 0.002475 + 0.002475                   0.004975 \n------------------------------------  = ---------------------------------------------- = ---------- = 0.498747 = ~49.87%\nP(I) + P(II) + P(III) + P(V) + P(VII)    0.000025 + 0.002475 + 0.002475 + ... + 0.00025   0.009975\n\n    "
    },
    {
     "cell_type": "heading",
     "level": 1,
     "metadata": {},
     "source": "Part III"
    },
    {
     "cell_type": "heading",
     "level": 2,
     "metadata": {},
     "source": "Pareto Distribution "
    },
    {
     "cell_type": "code",
     "collapsed": false,
     "input": "import numpy as np\nfrom scipy import stats\n\nparetoDist = np.random.pareto(1, 10000)\n\nh = pyplot.hist(paretoDist,100)\n\nnames = [\"size\", \"min/max\", \"mean\", \"variance\", \"skewness\", \"kurtosis\"]\n{name: stat for name, stat in zip(names, stats.describe(paretoDist))}",
     "language": "python",
     "metadata": {},
     "outputs": [
      {
       "metadata": {},
       "output_type": "pyout",
       "prompt_number": 35,
       "text": "{'kurtosis': 5358.8807854122715,\n 'mean': 19.500481568627301,\n 'min/max': (7.5295529023300389e-05, 71051.324057218269),\n 'size': 10000L,\n 'skewness': 72.3712551721528,\n 'variance': 786549.68525647698}"
      },
      {
       "metadata": {},
       "output_type": "display_data",
       "png": "[encoded data removed]",
       "text": "<matplotlib.figure.Figure at 0x14dd5208>"
      }
     ],
     "prompt_number": 35
    },
    {
     "cell_type": "heading",
     "level": 2,
     "metadata": {},
     "source": "Gamma Distribution"
    },
    {
     "cell_type": "code",
     "collapsed": false,
     "input": "import numpy as np\nfrom scipy import stats\n\nshape, scale = 9., 0.5 # mean and dispersion\ngammaDist = np.random.gamma(shape, scale, 10000)\nh = pyplot.hist(gammaDist,100)\n\nnames = [\"size\", \"min/max\", \"mean\", \"variance\", \"skewness\", \"kurtosis\"]\n{name: stat for name, stat in zip(names, stats.describe(gammaDist))}",
     "language": "python",
     "metadata": {},
     "outputs": [
      {
       "metadata": {},
       "output_type": "pyout",
       "prompt_number": 36,
       "text": "{'kurtosis': 0.7699962980038015,\n 'mean': 4.5028151257904963,\n 'min/max': (0.64794902809133714, 12.144017739153311),\n 'size': 10000L,\n 'skewness': 0.666983160234935,\n 'variance': 2.2613072101809117}"
      },
      {
       "metadata": {},
       "output_type": "display_data",
       "png": "[encoded data removed]",
       "text": "<matplotlib.figure.Figure at 0x14cdeb00>"
      }
     ],
     "prompt_number": 36
    },
    {
     "cell_type": "heading",
     "level": 2,
     "metadata": {},
     "source": "Beta Distribution"
    },
    {
     "cell_type": "code",
     "collapsed": false,
     "input": "import numpy as np\nfrom scipy import stats\n\nalpha, beta = 2., 5.0 # mean and dispersion\nbetaDist = np.random.beta(alpha, beta, 10000)\nh = pyplot.hist(betaDist,100)\n\nnames = [\"size\", \"min/max\", \"mean\", \"variance\", \"skewness\", \"kurtosis\"]\n{name: stat for name, stat in zip(names, stats.describe(betaDist))}",
     "language": "python",
     "metadata": {},
     "outputs": [
      {
       "metadata": {},
       "output_type": "pyout",
       "prompt_number": 34,
       "text": "{'kurtosis': -0.08094092399588648,\n 'mean': 0.28685752837316764,\n 'min/max': (0.0047968811358847082, 0.90268772784040874),\n 'size': 10000L,\n 'skewness': 0.5895962867229135,\n 'variance': 0.025183997767878046}"
      },
      {
       "metadata": {},
       "output_type": "display_data",
       "png": "[encoded data removed]",
       "text": "<matplotlib.figure.Figure at 0x14dc45f8>"
      }
     ],
     "prompt_number": 34
    },
    {
     "cell_type": "heading",
     "level": 1,
     "metadata": {},
     "source": "Part IV"
    },
    {
     "cell_type": "markdown",
     "metadata": {},
     "source": "Read this blog post: http://www.johndcook.com/blog/2010/06/17/covariance-and-law-of-cosines/\n\n"
    },
    {
     "cell_type": "raw",
     "metadata": {},
     "source": "I read it.  I made comments on Piazza, see @25.  I do think Wikipedia does the best job explaining the relationship. "
    },
    {
     "cell_type": "heading",
     "level": 1,
     "metadata": {},
     "source": "Part V"
    },
    {
     "cell_type": "heading",
     "level": 2,
     "metadata": {},
     "source": "NYC Restaurant Data"
    },
    {
     "cell_type": "code",
     "collapsed": false,
     "input": "%matplotlib inline\n\nimport matplotlib.pyplot as plt\nimport pandas as pd\nimport numpy as np\n\n#tell pandas to display wide tables ash pretty HTML tables\npd.set_option('display.width', 400)\npd.set_option('display.max_columns', 100)\n\n\nimport pandas as pd\nimport numpy as np\nimport matplotlib.pyplot as plt\n\n#data = pd.read_csv('webextract.txt',sep=',',low_memory = False, parse_dates = { 'INSPDATE', 'GRADEDATE', 'RECORDDATE' },\n#                   dtype = {'CAMIS' : np.int64, 'DBA' : object,      'BORO' : np.int64, 'BUILDING' : object,\n#                            'STREET' : object,  'ZIPCODE' : float ,  'PHONE' : object,  'CUISINECODE' : object ,\n#                            'ACTION' : object,  'VIOLCODE' : object, 'SCORE' : object,  'CURRENTGRADE' : object \n#                            }).dropna()\n\ndata = pd.read_csv('webextract.txt',sep=',', low_memory = False).dropna()\n\nprint \"Number of rows: %i\" % data.shape[0]\ndata.head() ",
     "language": "python",
     "metadata": {},
     "outputs": [
      {
       "output_type": "stream",
       "stream": "stdout",
       "text": "Number of rows: 232305\n"
      },
      {
       "html": "<div style=\"max-height:1000px;max-width:1500px;overflow:auto;\">\n<table border=\"1\" class=\"dataframe\">\n  <thead>\n    <tr style=\"text-align: right;\">\n      <th></th>\n      <th>CAMIS</th>\n      <th>DBA</th>\n      <th>BORO</th>\n      <th>BUILDING</th>\n      <th>STREET</th>\n      <th>ZIPCODE</th>\n      <th>PHONE</th>\n      <th>CUISINECODE</th>\n      <th>INSPDATE</th>\n      <th>ACTION</th>\n      <th>VIOLCODE</th>\n      <th>SCORE</th>\n      <th>CURRENTGRADE</th>\n      <th>GRADEDATE</th>\n      <th>RECORDDATE</th>\n    </tr>\n  </thead>\n  <tbody>\n    <tr>\n      <th>0</th>\n      <td> 40280083</td>\n      <td> INTERCONTINENTAL THE BARCLAY</td>\n      <td> 1</td>\n      <td> 111       </td>\n      <td> EAST   48 STREET                              ...</td>\n      <td> 10017</td>\n      <td> 2129063134</td>\n      <td>  3</td>\n      <td> 2014-02-07 00:00:00</td>\n      <td> D</td>\n      <td> 10F</td>\n      <td>  4</td>\n      <td> A</td>\n      <td> 2014-02-07 00:00:00</td>\n      <td> 2014-04-24 06:01:04.920000000</td>\n    </tr>\n    <tr>\n      <th>1</th>\n      <td> 40356649</td>\n      <td>              REGINA CATERERS</td>\n      <td> 3</td>\n      <td>       6409</td>\n      <td>                                         11 AVENUE</td>\n      <td> 11219</td>\n      <td> 7182560829</td>\n      <td>  3</td>\n      <td> 2013-07-30 00:00:00</td>\n      <td> D</td>\n      <td> 08A</td>\n      <td> 12</td>\n      <td> A</td>\n      <td> 2013-07-30 00:00:00</td>\n      <td> 2014-04-24 06:01:04.920000000</td>\n    </tr>\n    <tr>\n      <th>2</th>\n      <td> 40356649</td>\n      <td>              REGINA CATERERS</td>\n      <td> 3</td>\n      <td>       6409</td>\n      <td>                                         11 AVENUE</td>\n      <td> 11219</td>\n      <td> 7182560829</td>\n      <td>  3</td>\n      <td> 2013-07-30 00:00:00</td>\n      <td> D</td>\n      <td> 08B</td>\n      <td> 12</td>\n      <td> A</td>\n      <td> 2013-07-30 00:00:00</td>\n      <td> 2014-04-24 06:01:04.920000000</td>\n    </tr>\n    <tr>\n      <th>3</th>\n      <td> 40356731</td>\n      <td>  TASTE THE TROPICS ICE CREAM</td>\n      <td> 3</td>\n      <td> 1839      </td>\n      <td> NOSTRAND AVENUE                               ...</td>\n      <td> 11226</td>\n      <td> 7188560821</td>\n      <td> 43</td>\n      <td> 2013-07-10 00:00:00</td>\n      <td> D</td>\n      <td> 06C</td>\n      <td>  8</td>\n      <td> A</td>\n      <td> 2013-07-10 00:00:00</td>\n      <td> 2014-04-24 06:01:04.920000000</td>\n    </tr>\n    <tr>\n      <th>4</th>\n      <td> 40356731</td>\n      <td>  TASTE THE TROPICS ICE CREAM</td>\n      <td> 3</td>\n      <td> 1839      </td>\n      <td> NOSTRAND AVENUE                               ...</td>\n      <td> 11226</td>\n      <td> 7188560821</td>\n      <td> 43</td>\n      <td> 2013-07-10 00:00:00</td>\n      <td> D</td>\n      <td> 10B</td>\n      <td>  8</td>\n      <td> A</td>\n      <td> 2013-07-10 00:00:00</td>\n      <td> 2014-04-24 06:01:04.920000000</td>\n    </tr>\n  </tbody>\n</table>\n<p>5 rows \u00d7 15 columns</p>\n</div>",
       "metadata": {},
       "output_type": "pyout",
       "prompt_number": 189,
       "text": "      CAMIS                           DBA  BORO    BUILDING                                             STREET  ZIPCODE       PHONE  CUISINECODE             INSPDATE ACTION VIOLCODE  SCORE CURRENTGRADE            GRADEDATE                     RECORDDATE\n0  40280083  INTERCONTINENTAL THE BARCLAY     1  111         EAST   48 STREET                              ...    10017  2129063134            3  2014-02-07 00:00:00      D      10F      4            A  2014-02-07 00:00:00  2014-04-24 06:01:04.920000000\n1  40356649               REGINA CATERERS     3        6409                                          11 AVENUE    11219  7182560829            3  2013-07-30 00:00:00      D      08A     12            A  2013-07-30 00:00:00  2014-04-24 06:01:04.920000000\n2  40356649               REGINA CATERERS     3        6409                                          11 AVENUE    11219  7182560829            3  2013-07-30 00:00:00      D      08B     12            A  2013-07-30 00:00:00  2014-04-24 06:01:04.920000000\n3  40356731   TASTE THE TROPICS ICE CREAM     3  1839        NOSTRAND AVENUE                               ...    11226  7188560821           43  2013-07-10 00:00:00      D      06C      8            A  2013-07-10 00:00:00  2014-04-24 06:01:04.920000000\n4  40356731   TASTE THE TROPICS ICE CREAM     3  1839        NOSTRAND AVENUE                               ...    11226  7188560821           43  2013-07-10 00:00:00      D      10B      8            A  2013-07-10 00:00:00  2014-04-24 06:01:04.920000000\n\n[5 rows x 15 columns]"
      }
     ],
     "prompt_number": 189
    },
    {
     "cell_type": "code",
     "collapsed": false,
     "input": "# Describe some columns\ndata.describe()",
     "language": "python",
     "metadata": {},
     "outputs": [
      {
       "html": "<div style=\"max-height:1000px;max-width:1500px;overflow:auto;\">\n<table border=\"1\" class=\"dataframe\">\n  <thead>\n    <tr style=\"text-align: right;\">\n      <th></th>\n      <th>CAMIS</th>\n      <th>BORO</th>\n      <th>ZIPCODE</th>\n      <th>CUISINECODE</th>\n      <th>SCORE</th>\n    </tr>\n  </thead>\n  <tbody>\n    <tr>\n      <th>count</th>\n      <td>   232305.000000</td>\n      <td> 232305.000000</td>\n      <td> 232305.000000</td>\n      <td> 232305.000000</td>\n      <td> 232305.000000</td>\n    </tr>\n    <tr>\n      <th>mean</th>\n      <td> 41513488.192518</td>\n      <td>      2.373509</td>\n      <td>  10659.836740</td>\n      <td>     31.826495</td>\n      <td>     15.237890</td>\n    </tr>\n    <tr>\n      <th>std</th>\n      <td>  1663195.779417</td>\n      <td>      1.311984</td>\n      <td>    600.515116</td>\n      <td>     25.136495</td>\n      <td>     10.112094</td>\n    </tr>\n    <tr>\n      <th>min</th>\n      <td> 30075445.000000</td>\n      <td>      0.000000</td>\n      <td>   2210.000000</td>\n      <td>      0.000000</td>\n      <td>      0.000000</td>\n    </tr>\n    <tr>\n      <th>25%</th>\n      <td> 40984001.000000</td>\n      <td>      1.000000</td>\n      <td>  10020.000000</td>\n      <td>      5.000000</td>\n      <td>     10.000000</td>\n    </tr>\n    <tr>\n      <th>50%</th>\n      <td> 41344566.000000</td>\n      <td>      2.000000</td>\n      <td>  10465.000000</td>\n      <td>     22.000000</td>\n      <td>     12.000000</td>\n    </tr>\n    <tr>\n      <th>75%</th>\n      <td> 41555647.000000</td>\n      <td>      4.000000</td>\n      <td>  11228.000000</td>\n      <td>     53.000000</td>\n      <td>     19.000000</td>\n    </tr>\n    <tr>\n      <th>max</th>\n      <td> 50008826.000000</td>\n      <td>      5.000000</td>\n      <td>  12549.000000</td>\n      <td>     99.000000</td>\n      <td>    131.000000</td>\n    </tr>\n  </tbody>\n</table>\n<p>8 rows \u00d7 5 columns</p>\n</div>",
       "metadata": {},
       "output_type": "pyout",
       "prompt_number": 191,
       "text": "                 CAMIS           BORO        ZIPCODE    CUISINECODE          SCORE\ncount    232305.000000  232305.000000  232305.000000  232305.000000  232305.000000\nmean   41513488.192518       2.373509   10659.836740      31.826495      15.237890\nstd     1663195.779417       1.311984     600.515116      25.136495      10.112094\nmin    30075445.000000       0.000000    2210.000000       0.000000       0.000000\n25%    40984001.000000       1.000000   10020.000000       5.000000      10.000000\n50%    41344566.000000       2.000000   10465.000000      22.000000      12.000000\n75%    41555647.000000       4.000000   11228.000000      53.000000      19.000000\nmax    50008826.000000       5.000000   12549.000000      99.000000     131.000000\n\n[8 rows x 5 columns]"
      }
     ],
     "prompt_number": 191
    },
    {
     "cell_type": "code",
     "collapsed": false,
     "input": "# Inspection date ranges\nprint data['INSPDATE'].min()\nprint data['INSPDATE'].max()\n",
     "language": "python",
     "metadata": {},
     "outputs": [
      {
       "output_type": "stream",
       "stream": "stdout",
       "text": "2010-07-27 00:00:00\n2014-04-23 00:00:00"
      },
      {
       "output_type": "stream",
       "stream": "stdout",
       "text": "\n"
      }
     ],
     "prompt_number": 192
    },
    {
     "cell_type": "code",
     "collapsed": false,
     "input": "# Average score\nprint data.SCORE.mean()\n",
     "language": "python",
     "metadata": {},
     "outputs": [
      {
       "output_type": "stream",
       "stream": "stdout",
       "text": "15.2378898431\n"
      }
     ],
     "prompt_number": 193
    },
    {
     "cell_type": "code",
     "collapsed": false,
     "input": "# Get years from inspection date\nyears = [x[0:4] for x in data.INSPDATE]\nprint data.groupby(years).SCORE.mean()\n\nplt.plot(decade_mean.index, decade_mean.values, 'o-',\n        color='r', lw=3, label='mean')\nplt.xlabel(\"Year\")\nplt.ylabel(\"Score\")\nplt.legend(frameon=False)\n#remove_border()\n",
     "language": "python",
     "metadata": {},
     "outputs": [
      {
       "output_type": "stream",
       "stream": "stdout",
       "text": "2010    14.837533\n2011    16.481806\n2012    14.951540\n2013    14.627304\n2014    14.825686\nName: SCORE, dtype: float64\n"
      },
      {
       "metadata": {},
       "output_type": "pyout",
       "prompt_number": 160,
       "text": "<matplotlib.legend.Legend at 0x200866a0>"
      },
      {
       "metadata": {},
       "output_type": "display_data",
       "png": "[encoded data removed]",
       "text": "<matplotlib.figure.Figure at 0x14e30c50>"
      }
     ],
     "prompt_number": 160
    },
    {
     "cell_type": "heading",
     "level": 2,
     "metadata": {},
     "source": "Comet Data"
    },
    {
     "cell_type": "code",
     "collapsed": false,
     "input": "%matplotlib inline\n\nimport matplotlib.pyplot as plt\nimport pandas as pd\nimport numpy as np\n\n#tell pandas to display wide tables ash pretty HTML tables\npd.set_option('display.width', 400)\npd.set_option('display.max_columns', 100)\n\n\nimport pandas as pd\nimport numpy as np\nimport matplotlib.pyplot as plt\n\ndata = pd.read_table('ELEMENTS.COMET.txt', low_memory = False).dropna()\n\nprint \"Number of rows: %i\" % data.shape[0]\ndata.head() ",
     "language": "python",
     "metadata": {},
     "outputs": [
      {
       "output_type": "stream",
       "stream": "stdout",
       "text": "Number of rows: 3265\n"
      },
      {
       "html": "<div style=\"max-height:1000px;max-width:1500px;overflow:auto;\">\n<table border=\"1\" class=\"dataframe\">\n  <thead>\n    <tr style=\"text-align: right;\">\n      <th></th>\n      <th>Num_Name</th>\n      <th>Epoch</th>\n      <th>q</th>\n      <th>e</th>\n      <th>i</th>\n      <th>w</th>\n      <th>Node</th>\n      <th>Tp</th>\n      <th>Ref</th>\n    </tr>\n  </thead>\n  <tbody>\n    <tr>\n      <th>0</th>\n      <td>  1P/Halley</td>\n      <td> 49400</td>\n      <td> 0.585978</td>\n      <td> 0.967143</td>\n      <td> 162.26269</td>\n      <td> 111.33249</td>\n      <td>  58.42008</td>\n      <td> 19860205.90</td>\n      <td> JPLJ863/77</td>\n    </tr>\n    <tr>\n      <th>1</th>\n      <td>   2P/Encke</td>\n      <td> 56580</td>\n      <td> 0.336126</td>\n      <td> 0.848232</td>\n      <td>  11.77894</td>\n      <td> 186.53535</td>\n      <td> 334.57346</td>\n      <td> 20131121.69</td>\n      <td>  JPLK105/5</td>\n    </tr>\n    <tr>\n      <th>2</th>\n      <td>   3D/Biela</td>\n      <td> -9480</td>\n      <td> 0.879073</td>\n      <td> 0.751299</td>\n      <td>  13.21640</td>\n      <td> 221.65880</td>\n      <td> 250.66900</td>\n      <td> 18321126.62</td>\n      <td>   IAUCAT03</td>\n    </tr>\n    <tr>\n      <th>3</th>\n      <td>    4P/Faye</td>\n      <td> 56717</td>\n      <td> 1.655041</td>\n      <td> 0.568510</td>\n      <td>   9.05002</td>\n      <td> 205.06504</td>\n      <td> 199.27533</td>\n      <td> 20140529.61</td>\n      <td>  JPLK144/3</td>\n    </tr>\n    <tr>\n      <th>4</th>\n      <td> 5D/Brorsen</td>\n      <td>  7440</td>\n      <td> 0.589847</td>\n      <td> 0.809796</td>\n      <td>  29.38210</td>\n      <td>  14.94680</td>\n      <td> 102.96760</td>\n      <td> 18790331.03</td>\n      <td>   IAUCAT03</td>\n    </tr>\n  </tbody>\n</table>\n<p>5 rows \u00d7 9 columns</p>\n</div>",
       "metadata": {},
       "output_type": "pyout",
       "prompt_number": 194,
       "text": "     Num_Name  Epoch         q         e          i          w       Node           Tp         Ref\n0   1P/Halley  49400  0.585978  0.967143  162.26269  111.33249   58.42008  19860205.90  JPLJ863/77\n1    2P/Encke  56580  0.336126  0.848232   11.77894  186.53535  334.57346  20131121.69   JPLK105/5\n2    3D/Biela  -9480  0.879073  0.751299   13.21640  221.65880  250.66900  18321126.62    IAUCAT03\n3     4P/Faye  56717  1.655041  0.568510    9.05002  205.06504  199.27533  20140529.61   JPLK144/3\n4  5D/Brorsen   7440  0.589847  0.809796   29.38210   14.94680  102.96760  18790331.03    IAUCAT03\n\n[5 rows x 9 columns]"
      }
     ],
     "prompt_number": 194
    },
    {
     "cell_type": "code",
     "collapsed": false,
     "input": "# Describe some columns\ndata.describe()",
     "language": "python",
     "metadata": {},
     "outputs": [
      {
       "html": "<div style=\"max-height:1000px;max-width:1500px;overflow:auto;\">\n<table border=\"1\" class=\"dataframe\">\n  <thead>\n    <tr style=\"text-align: right;\">\n      <th></th>\n      <th>Epoch</th>\n      <th>q</th>\n      <th>e</th>\n      <th>i</th>\n      <th>w</th>\n      <th>Node</th>\n      <th>Tp</th>\n    </tr>\n  </thead>\n  <tbody>\n    <tr>\n      <th>count</th>\n      <td>   3265.000000</td>\n      <td> 3265.000000</td>\n      <td> 3265.000000</td>\n      <td> 3265.000000</td>\n      <td> 3265.000000</td>\n      <td> 3265.000000</td>\n      <td>     3265.000000</td>\n    </tr>\n    <tr>\n      <th>mean</th>\n      <td>  39590.451149</td>\n      <td>    1.124395</td>\n      <td>    0.905994</td>\n      <td>   95.675575</td>\n      <td>  129.047064</td>\n      <td>  152.354862</td>\n      <td> 19668031.458876</td>\n    </tr>\n    <tr>\n      <th>std</th>\n      <td>  51504.509801</td>\n      <td>    1.602949</td>\n      <td>    0.205376</td>\n      <td>   54.864803</td>\n      <td>   92.169331</td>\n      <td>  131.628836</td>\n      <td>  1410172.075674</td>\n    </tr>\n    <tr>\n      <th>min</th>\n      <td>-732091.000000</td>\n      <td>    0.001100</td>\n      <td>    0.028594</td>\n      <td>    0.898920</td>\n      <td>    0.047910</td>\n      <td>    0.000000</td>\n      <td> -1460628.000000</td>\n    </tr>\n    <tr>\n      <th>25%</th>\n      <td>  50512.000000</td>\n      <td>    0.005300</td>\n      <td>    0.993251</td>\n      <td>   38.690270</td>\n      <td>   72.990000</td>\n      <td>   16.270000</td>\n      <td> 19970129.650000</td>\n    </tr>\n    <tr>\n      <th>50%</th>\n      <td>  52834.000000</td>\n      <td>    0.420271</td>\n      <td>    1.000000</td>\n      <td>  121.941700</td>\n      <td>   87.140000</td>\n      <td>  115.880460</td>\n      <td> 20030616.090000</td>\n    </tr>\n    <tr>\n      <th>75%</th>\n      <td>  54089.000000</td>\n      <td>    1.723134</td>\n      <td>    1.000000</td>\n      <td>  144.120000</td>\n      <td>  182.016670</td>\n      <td>  287.075720</td>\n      <td> 20061222.530000</td>\n    </tr>\n    <tr>\n      <th>max</th>\n      <td>  56780.000000</td>\n      <td>   11.783545</td>\n      <td>    1.057500</td>\n      <td>  179.212300</td>\n      <td>  359.967650</td>\n      <td>  359.980000</td>\n      <td> 20190414.320000</td>\n    </tr>\n  </tbody>\n</table>\n<p>8 rows \u00d7 7 columns</p>\n</div>",
       "metadata": {},
       "output_type": "pyout",
       "prompt_number": 195,
       "text": "               Epoch            q            e            i            w         Node               Tp\ncount    3265.000000  3265.000000  3265.000000  3265.000000  3265.000000  3265.000000      3265.000000\nmean    39590.451149     1.124395     0.905994    95.675575   129.047064   152.354862  19668031.458876\nstd     51504.509801     1.602949     0.205376    54.864803    92.169331   131.628836   1410172.075674\nmin   -732091.000000     0.001100     0.028594     0.898920     0.047910     0.000000  -1460628.000000\n25%     50512.000000     0.005300     0.993251    38.690270    72.990000    16.270000  19970129.650000\n50%     52834.000000     0.420271     1.000000   121.941700    87.140000   115.880460  20030616.090000\n75%     54089.000000     1.723134     1.000000   144.120000   182.016670   287.075720  20061222.530000\nmax     56780.000000    11.783545     1.057500   179.212300   359.967650   359.980000  20190414.320000\n\n[8 rows x 7 columns]"
      }
     ],
     "prompt_number": 195
    },
    {
     "cell_type": "code",
     "collapsed": false,
     "input": "",
     "language": "python",
     "metadata": {},
     "outputs": []
    }
   ],
   "metadata": {}
  }
 ]
}